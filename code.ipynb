{
  "nbformat": 4,
  "nbformat_minor": 0,
  "metadata": {
    "colab": {
      "provenance": []
    },
    "kernelspec": {
      "name": "python3",
      "display_name": "Python 3"
    },
    "language_info": {
      "name": "python"
    }
  },
  "cells": [
    {
      "cell_type": "code",
      "execution_count": 27,
      "metadata": {
        "id": "ZOeNo4YUujqx"
      },
      "outputs": [],
      "source": [
        "import pandas as pd\n",
        "\n",
        "# Load the dataset\n",
        "data_path = 'NY-House-Dataset.csv'\n",
        "ny_houses = pd.read_csv(data_path)\n"
      ]
    },
    {
      "cell_type": "code",
      "source": [
        "# Checking for missing values\n",
        "print(ny_houses.isnull().sum())\n",
        "\n",
        "# Calculate the median for numeric columns only\n",
        "numeric_cols = ny_houses.select_dtypes(include=['int64', 'float64']).columns\n",
        "ny_houses[numeric_cols] = ny_houses[numeric_cols].fillna(ny_houses[numeric_cols].median())\n",
        "\n",
        "# Optionally, for non-numeric columns, if you have any NaN values, you might want to fill them with the mode or a placeholder\n",
        "# For example, to fill with the most common value (mode) for each column:\n",
        "categorical_cols = ny_houses.select_dtypes(include=['object']).columns\n",
        "ny_houses[categorical_cols] = ny_houses[categorical_cols].fillna(ny_houses[categorical_cols].mode().iloc[0])\n"
      ],
      "metadata": {
        "colab": {
          "base_uri": "https://localhost:8080/"
        },
        "id": "u602LO-D05Vk",
        "outputId": "da563912-8e12-4143-d7a0-a018b853260e"
      },
      "execution_count": 29,
      "outputs": [
        {
          "output_type": "stream",
          "name": "stdout",
          "text": [
            "BROKERTITLE                    0\n",
            "TYPE                           0\n",
            "PRICE                          0\n",
            "BEDS                           0\n",
            "BATH                           0\n",
            "PROPERTYSQFT                   0\n",
            "ADDRESS                        0\n",
            "STATE                          0\n",
            "MAIN_ADDRESS                   0\n",
            "ADMINISTRATIVE_AREA_LEVEL_2    0\n",
            "LOCALITY                       0\n",
            "SUBLOCALITY                    0\n",
            "STREET_NAME                    0\n",
            "LONG_NAME                      0\n",
            "FORMATTED_ADDRESS              0\n",
            "LATITUDE                       0\n",
            "LONGITUDE                      0\n",
            "dtype: int64\n"
          ]
        }
      ]
    },
    {
      "cell_type": "code",
      "source": [
        "from sklearn.model_selection import train_test_split\n",
        "\n",
        "# Defining the features and target for regression\n",
        "X = ny_houses.drop(['PRICE', 'ADDRESS', 'FORMATTED_ADDRESS', 'MAIN_ADDRESS'], axis=1)  # dropping non-numeric and target columns\n",
        "y = ny_houses['PRICE']\n",
        "\n",
        "# Splitting the dataset into training and testing sets\n",
        "X_train, X_test, y_train, y_test = train_test_split(X, y, test_size=0.2, random_state=42)\n"
      ],
      "metadata": {
        "id": "FesEmu271B9O"
      },
      "execution_count": 30,
      "outputs": []
    },
    {
      "cell_type": "code",
      "source": [
        "from sklearn.linear_model import LinearRegression\n",
        "from sklearn.tree import DecisionTreeRegressor\n",
        "from sklearn.metrics import mean_squared_error, r2_score\n",
        "\n",
        "# Checking for non-numeric columns and converting them\n",
        "non_numeric_cols = X_train.select_dtypes(exclude=['int64', 'float64']).columns\n",
        "X_train = pd.get_dummies(X_train, columns=non_numeric_cols)\n",
        "X_test = pd.get_dummies(X_test, columns=non_numeric_cols)\n",
        "\n",
        "# Ensuring both train and test sets have the same columns\n",
        "X_train, X_test = X_train.align(X_test, join='left', axis=1, fill_value=0)\n",
        "\n",
        "# Replace inf/-inf with NaN and then fill with the median for numeric columns\n",
        "X_train.replace([np.inf, -np.inf], np.nan, inplace=True)\n",
        "X_train.fillna(X_train.median(), inplace=True)\n",
        "X_test.replace([np.inf, -np.inf], np.nan, inplace=True)\n",
        "X_test.fillna(X_train.median(), inplace=True)\n",
        "\n",
        "# Linear Regression Model\n",
        "linear_model = LinearRegression()\n",
        "linear_model.fit(X_train, y_train)\n",
        "y_pred_linear = linear_model.predict(X_test)\n",
        "\n",
        "# Decision Tree Regression Model\n",
        "tree_model = DecisionTreeRegressor()\n",
        "tree_model.fit(X_train, y_train)\n",
        "y_pred_tree = tree_model.predict(X_test)\n",
        "\n",
        "# Evaluation of Regression Models\n",
        "print(\"Linear Regression MSE:\", mean_squared_error(y_test, y_pred_linear))\n",
        "print(\"Decision Tree MSE:\", mean_squared_error(y_test, y_pred_tree))\n",
        "print(\"Linear Regression R²:\", r2_score(y_test, y_pred_linear))\n",
        "print(\"Decision Tree R²:\", r2_score(y_test, y_pred_tree))\n"
      ],
      "metadata": {
        "colab": {
          "base_uri": "https://localhost:8080/"
        },
        "id": "UTUaaI3w1EDf",
        "outputId": "243f7863-4d42-48b5-da20-019f6eda913f"
      },
      "execution_count": 33,
      "outputs": [
        {
          "output_type": "stream",
          "name": "stdout",
          "text": [
            "Linear Regression MSE: 46055228021336.02\n",
            "Decision Tree MSE: 11941737339126.959\n",
            "Linear Regression R²: -0.8279631205571871\n",
            "Decision Tree R²: 0.5260243757518247\n"
          ]
        }
      ]
    },
    {
      "cell_type": "code",
      "source": [
        "# Conclusion:\n",
        "# The Decision Tree model outperforms the Linear Regression model in both MSE and R² metrics.\n",
        "# Recommendations for improving the Linear Regression model include checking the assumptions of linear regression,\n",
        "# applying data transformations, and considering more complex models or feature engineering to capture non-linear relationships."
      ],
      "metadata": {
        "id": "6K2qaYK_IvAU"
      },
      "execution_count": 49,
      "outputs": []
    },
    {
      "cell_type": "code",
      "source": [
        "from sklearn.ensemble import RandomForestClassifier\n",
        "\n",
        "# Creating the Random Forest classifier\n",
        "random_forest_model = RandomForestClassifier(n_estimators=100, random_state=42)\n",
        "\n",
        "# Fitting the model\n",
        "random_forest_model.fit(X_train, y_class_train)\n",
        "y_pred_forest = random_forest_model.predict(X_test)\n",
        "\n",
        "# Evaluating the Random Forest model\n",
        "from sklearn.metrics import classification_report\n",
        "print(\"Random Forest Classifier Report:\")\n",
        "print(classification_report(y_class_test, y_pred_forest))\n",
        "\n",
        "from sklearn.svm import SVC\n",
        "\n",
        "# Creating the SVM classifier\n",
        "svm_model = SVC(kernel='linear')  # You can change the kernel to 'rbf' for non-linear issues\n",
        "\n",
        "# Fitting the model\n",
        "svm_model.fit(X_train, y_class_train)\n",
        "y_pred_svm = svm_model.predict(X_test)\n",
        "\n",
        "# Evaluating the SVM model\n",
        "print(\"Support Vector Machine Classifier Report:\")\n",
        "print(classification_report(y_class_test, y_pred_svm))\n"
      ],
      "metadata": {
        "colab": {
          "base_uri": "https://localhost:8080/"
        },
        "id": "QRI9lDtz1U2w",
        "outputId": "af0a73b0-8d7c-4a1d-94de-616e2978504f"
      },
      "execution_count": 43,
      "outputs": [
        {
          "output_type": "stream",
          "name": "stdout",
          "text": [
            "Random Forest Classifier Report:\n",
            "              precision    recall  f1-score   support\n",
            "\n",
            "           0       0.90      0.89      0.90       489\n",
            "           1       0.89      0.90      0.90       472\n",
            "\n",
            "    accuracy                           0.90       961\n",
            "   macro avg       0.90      0.90      0.90       961\n",
            "weighted avg       0.90      0.90      0.90       961\n",
            "\n",
            "Support Vector Machine Classifier Report:\n",
            "              precision    recall  f1-score   support\n",
            "\n",
            "           0       0.87      0.84      0.86       489\n",
            "           1       0.84      0.88      0.86       472\n",
            "\n",
            "    accuracy                           0.86       961\n",
            "   macro avg       0.86      0.86      0.86       961\n",
            "weighted avg       0.86      0.86      0.86       961\n",
            "\n"
          ]
        }
      ]
    },
    {
      "cell_type": "code",
      "source": [
        "# Based on the classification reports provided above, the Random Forest Classifier shows superior performance\n",
        "# compared to the Support Vector Machine. With an accuracy and F1-score of 0.90 compared to 0.86 for the SVM,\n",
        "# the Random Forest model not only predicts more accurately but also balances the precision and recall better.\n",
        "# This makes it the preferred model for scenarios where both identifying the positive class accurately and\n",
        "# ensuring the comprehensive identification of positive cases are crucial.\n"
      ],
      "metadata": {
        "id": "vmIG3XpgIPPE"
      },
      "execution_count": 50,
      "outputs": []
    },
    {
      "cell_type": "code",
      "source": [
        "# Identify categorical columns\n",
        "categorical_cols = X.select_dtypes(include=['object']).columns\n",
        "\n",
        "# Convert categorical columns to dummy variables\n",
        "X_encoded = pd.get_dummies(X, columns=categorical_cols)\n",
        "\n",
        "# Now, X_encoded contains only numeric data and is ready for clustering.\n",
        "\n",
        "from sklearn.cluster import KMeans\n",
        "\n",
        "# Clustering with k-means using the encoded data\n",
        "kmeans = KMeans(n_clusters=2, random_state=42)\n",
        "clusters = kmeans.fit_predict(X_encoded)\n",
        "\n",
        "# Adding cluster labels to the DataFrame\n",
        "X['CLUSTER'] = clusters\n",
        "\n",
        "# Displaying some of the data to verify clustering results\n",
        "print(X.head())\n",
        "\n",
        "from sklearn.decomposition import PCA\n",
        "\n",
        "# Reducing the dimensionality\n",
        "pca = PCA(n_components=2)  # Reduce to 2 dimensions for visualization or based on explained variance\n",
        "X_pca = pca.fit_transform(X_encoded)\n",
        "\n",
        "# Applying k-means on the reduced data\n",
        "kmeans = KMeans(n_clusters=2, random_state=42)\n",
        "clusters = kmeans.fit_predict(X_pca)\n",
        "\n",
        "# Adding cluster labels to the DataFrame\n",
        "X['CLUSTER'] = clusters\n"
      ],
      "metadata": {
        "colab": {
          "base_uri": "https://localhost:8080/"
        },
        "id": "HxrU_oiG14Aj",
        "outputId": "cc1f4233-65ff-431e-c2ae-a64cb9e40b2d"
      },
      "execution_count": 46,
      "outputs": [
        {
          "output_type": "stream",
          "name": "stdout",
          "text": [
            "                                         BROKERTITLE                TYPE  \\\n",
            "0        Brokered by Douglas Elliman  -111 Fifth Ave      Condo for sale   \n",
            "1                                Brokered by Serhant      Condo for sale   \n",
            "2                             Brokered by Sowae Corp      House for sale   \n",
            "3                                Brokered by COMPASS      Condo for sale   \n",
            "4  Brokered by Sotheby's International Realty - E...  Townhouse for sale   \n",
            "\n",
            "   BEDS       BATH  PROPERTYSQFT                    STATE  \\\n",
            "0     2   2.000000        1400.0       New York, NY 10022   \n",
            "1     7  10.000000       17545.0       New York, NY 10019   \n",
            "2     4   2.000000        2015.0  Staten Island, NY 10312   \n",
            "3     3   1.000000         445.0      Manhattan, NY 10022   \n",
            "4     7   2.373861       14175.0       New York, NY 10065   \n",
            "\n",
            "  ADMINISTRATIVE_AREA_LEVEL_2  LOCALITY      SUBLOCALITY       STREET_NAME  \\\n",
            "0             New York County  New York        Manhattan  East 55th Street   \n",
            "1               United States  New York  New York County          New York   \n",
            "2               United States  New York  Richmond County     Staten Island   \n",
            "3               United States  New York  New York County          New York   \n",
            "4               United States  New York  New York County          New York   \n",
            "\n",
            "          LONG_NAME   LATITUDE  LONGITUDE  CLUSTER  \n",
            "0   Regis Residence  40.761255 -73.974483        0  \n",
            "1  West 57th Street  40.766393 -73.980991        1  \n",
            "2   Sinclair Avenue  40.541805 -74.196109        0  \n",
            "3  East 55th Street  40.761398 -73.974613        0  \n",
            "4  East 64th Street  40.767224 -73.969856        1  \n"
          ]
        }
      ]
    }
  ]
}